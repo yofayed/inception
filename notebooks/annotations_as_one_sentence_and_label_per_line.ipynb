{
  "nbformat": 4,
  "nbformat_minor": 0,
  "metadata": {
    "colab": {
      "name": "INCEpTION - Annotations as one sentence and label per line.ipynb",
      "provenance": [],
      "collapsed_sections": []
    },
    "kernelspec": {
      "name": "python3",
      "display_name": "Python 3"
    }
  },
  "cells": [
    {
      "cell_type": "markdown",
      "metadata": {
        "id": "0BXCKzzqSFSQ"
      },
      "source": [
        "# INCEpTION - Annotations as one sentence and label per line\n",
        "\n",
        "In this example, we annotate a text at the sentence level using for sentiment.\n",
        "\n",
        "To get you quickly started with this example of converting an annotated text, we have prepared a simple annotated text file (UIMA CAS XMI format) and an annotation schema definition file (UIMA typesystem). \n",
        "\n",
        "After the conversion example, you will also find instructions on how to set up an INCEpTION project for annotating texts at the sentence level."
      ]
    },
    {
      "cell_type": "markdown",
      "metadata": {
        "id": "Swu6Hvy1UAxQ"
      },
      "source": [
        "## Prepare example annotation\n",
        "\n",
        "Run the two cells below to create the `sentiment.xmi` and `TypeSystem.xml` files that we will then read using DKPro Cassis and convert to the desired output format."
      ]
    },
    {
      "cell_type": "code",
      "metadata": {
        "id": "0FZpnTHLFmFN"
      },
      "source": [
        "%%writefile sentiment.xmi\n",
        "<?xml version=\"1.0\" encoding=\"UTF-8\"?>\n",
        "<xmi:XMI xmi:version=\"2.0\"\n",
        "         xmlns:xmi=\"http://www.omg.org/XMI\" \n",
        "         xmlns:cas=\"http:///uima/cas.ecore\" \n",
        "         xmlns:custom=\"http:///webanno/custom.ecore\">\n",
        "    <cas:NULL xmi:id=\"0\"/>\n",
        "    <custom:Sentiment xmi:id=\"668\" sofa=\"1\" begin=\"0\" end=\"47\" polarity=\"positive\"/>\n",
        "    <custom:Sentiment xmi:id=\"673\" sofa=\"1\" begin=\"48\" end=\"103\" polarity=\"neutral\"/>\n",
        "    <custom:Sentiment xmi:id=\"678\" sofa=\"1\" begin=\"104\" end=\"160\" polarity=\"negative\"/>\n",
        "    <custom:Sentiment xmi:id=\"693\" sofa=\"1\" begin=\"161\" end=\"190\" polarity=\"negative\"/>\n",
        "    <cas:Sofa xmi:id=\"1\" sofaNum=\"1\" sofaID=\"_InitialView\" mimeType=\"text\" \n",
        "      sofaString=\"Coronet has the best lines of all day cruisers.&#10;Bertram has a deep V hull and runs easily through seas.&#10;Pastel-colored 1980s day cruisers from Florida are ugly.&#10;I dislike old cabin cruisers.\"/>\n",
        "    <cas:View sofa=\"1\" members=\"668 673 678 693\"/>\n",
        "</xmi:XMI>"
      ],
      "execution_count": null,
      "outputs": []
    },
    {
      "cell_type": "code",
      "metadata": {
        "id": "_bWweKuXGjj7"
      },
      "source": [
        "%%writefile TypeSystem.xml\n",
        "<typeSystemDescription xmlns=\"http://uima.apache.org/resourceSpecifier\">\n",
        "  <types>\n",
        "    <typeDescription>\n",
        "        <name>webanno.custom.Sentiment</name>\n",
        "        <description/>\n",
        "        <supertypeName>uima.tcas.Annotation</supertypeName>\n",
        "        <features>\n",
        "          <featureDescription>\n",
        "          <name>polarity</name>\n",
        "          <description/>\n",
        "          <rangeTypeName>uima.cas.String</rangeTypeName>\n",
        "        </featureDescription>\n",
        "      </features>\n",
        "    </typeDescription>\n",
        "  </types>    \n",
        "</typeSystemDescription>\n"
      ],
      "execution_count": null,
      "outputs": []
    },
    {
      "cell_type": "markdown",
      "metadata": {
        "id": "8O1D2ls3LJ6n"
      },
      "source": [
        "# Convert the Annotations\n",
        "\n",
        "Now, we finally convert the exported annotations to the format we want. Each line should represent an annotated sentence. We start the line with the polarity and separated by a tab follows the sentence text."
      ]
    },
    {
      "cell_type": "code",
      "metadata": {
        "colab": {
          "base_uri": "https://localhost:8080/"
        },
        "id": "dssU7QtcH4Po",
        "outputId": "5cf3a8eb-3f83-46a8-e4ee-8d0fb70f2740"
      },
      "source": [
        "!pip install dkpro-cassis > /dev/null\n",
        "\n",
        "from cassis import *\n",
        "\n",
        "with open('TypeSystem.xml', 'rb') as f:\n",
        "  typesystem = load_typesystem(f)\n",
        "\n",
        "with open('sentiment.xmi', 'rb') as f:\n",
        "  doc = load_cas_from_xmi(f, typesystem=typesystem)\n",
        "\n",
        "# Since Sentiment is a sentence-level annotation in INCEpTION, we get\n",
        "# one annotation per sentence. So we can simply iterate over the \n",
        "# Sentiment annotations and write its polarity and the covered text\n",
        "# to the output file\n",
        "with open('sentiment-sentence-per-line.txt', 'w') as f:\n",
        "  for sentiment in doc.select('webanno.custom.Sentiment'):\n",
        "    f.write(f\"{sentiment.polarity}\\t{sentiment.get_covered_text()}\\n\")\n",
        "\n",
        "# Now let's just load the file and check whether everything was written\n",
        "# correctly\n",
        "with open('sentiment-sentence-per-line.txt', 'r') as f:\n",
        "  print(f.read())"
      ],
      "execution_count": null,
      "outputs": [
        {
          "output_type": "stream",
          "text": [
            "positive\tCoronet has the best lines of all day cruisers.\n",
            "neutral\tBertram has a deep V hull and runs easily through seas.\n",
            "negative\tPastel-colored 1980s day cruisers from Florida are ugly.\n",
            "negative\tI dislike old cabin cruisers.\n",
            "\n"
          ],
          "name": "stdout"
        }
      ]
    },
    {
      "cell_type": "markdown",
      "metadata": {
        "id": "Z-q0Bu2y_2T5"
      },
      "source": [
        "# Prepare the annotations in INCEpTION\n",
        "\n",
        "If you are only interested in how to convert your annotation data from INCEpTION's XMI format to another format using DKPro Cassis, then you do not need to perform the steps explained here. You can just skim this section to get an idea of the annotation schema used in this example. We will provide a suitable sample annotated text and annotation schema further down.\n",
        "\n",
        "## Import Document\n",
        "\n",
        "---\n",
        "Copy/paste the text below into a file called `sentiment.txt` (*Source: https://en.wikipedia.org/wiki/Sentiment_analysis*)\n",
        "```\n",
        "Coronet has the best lines of all day cruisers.\n",
        "Bertram has a deep V hull and runs easily through seas.\n",
        "Pastel-colored 1980s day cruisers from Florida are ugly.\n",
        "I dislike old cabin cruisers.\n",
        "```\n",
        "---\n",
        "\n",
        "Go to the **Documents** tab on the project **Settings** page.\n",
        "\n",
        "* Import the file `sentiment.txt` as using the format **Plain text (one sentence per line)**\n",
        "\n",
        "\n",
        "## Configure Annotation Scheme\n",
        "\n",
        "Go to the **Layers** tab on the project **Settings** page.\n",
        "\n",
        "* Press the **Create** button in the **Layers** list to create a new layer\n",
        "* In the **Layer Details** panel\n",
        "  * Set the **Name** to `Sentiment`\n",
        "  * Set the **Type** to `Span`\n",
        "  * Set the **Granularity** to `Sentence-level`\n",
        "  * Press the **Save** button\n",
        "* Press the **Create** button in the **Features** list to create a new feature\n",
        "* In the **Feature Details** panel\n",
        "  * Set the **Name** to `polarity`\n",
        "  * Set the **Type** to `Primitive: String`\n",
        "  * Press the **Save** button\n",
        "\n",
        "## Create Annotations\n",
        "\n",
        "Go to the **Annotation** page.\n",
        "\n",
        "* Open the `sentiment.txt` document.\n",
        "* Select **Sentiment** from the **Layer** dropdown box on the right.\n",
        "* **Double-click on a word** in the first line and enter a **polarity** into the text box appearing on the right. Press **Enter** to save the value.\n",
        "* Repeat for the other lines.\n",
        "\n",
        "## Export Annotations\n",
        "\n",
        "In this example, we only export the `sentiment.txt` document with the annotations of the current user.\n",
        "\n",
        "* Click on the **Export** icon in the action bar above the annotation editor area (symbolized by a page with an arrow pointing downwards).\n",
        "* Select **UIMA CAS XMI (XML 1.0)** in the **Format** dropdown.\n",
        "* Press the **Export** button.\n",
        "\n",
        "This will download a ZIP file containing two files:\n",
        "\n",
        "* `sentiment.xmi` - the annotated text\n",
        "* `TypeSystem.xml` - the annotation schema\n",
        "\n",
        "For your convenience, we provide reduced version of the the `sentiment.xmi` and the `TypeSystem.xml` containing only those annotations and types necessary for our little example. The files you get when you export from INCEpTION are considerably larger, containing e.g. also Token and Sentence annotations and many more annotation types in the annotation schema, so they are not easy to look at with the naked eye. But we will use DKPro Cassis to load the files, and it will work exactly the same, independent of whether you use the files you get from INCEpTION or the reduced versions at the beginning of this notebook."
      ]
    }
  ]
}